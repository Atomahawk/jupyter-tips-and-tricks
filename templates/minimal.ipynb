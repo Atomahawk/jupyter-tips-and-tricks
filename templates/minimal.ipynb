{
 "cells": [
  {
   "cell_type": "code",
   "execution_count": null,
   "metadata": {
    "collapsed": true
   },
   "outputs": [],
   "source": [
    "from __future__ import absolute_import, division, print_function\n",
    "import matplotlib as mpl\n",
    "from matplotlib import pyplot as plt\n",
    "from matplotlib.pyplot import GridSpec\n",
    "%matplotlib inline\n",
    "import seaborn as sns\n",
    "import mpld3\n",
    "import numpy as np\n",
    "import pandas as pd\n",
    "from IPython.display import IFrame\n",
    "import os, sys\n",
    "import warnings"
   ]
  },
  {
   "cell_type": "code",
   "execution_count": null,
   "metadata": {
    "collapsed": true
   },
   "outputs": [],
   "source": [
    "# Customizations\n",
    "sns.set()  #matplotlib defaults\n",
    "# Any tweaks that normally go in .matplotlibrc, etc., should explicitly go here\n",
    "plt.rcParams['figure.figsize'] = (12, 8)\n",
    "%config InlineBackend.figure_format='retina'\n",
    "# %load_ext autoreload\n",
    "# the \"1\" means: always reload modules marked with \"%aimport\"\n",
    "# %autoreload 1"
   ]
  }
 ],
 "metadata": {
  "kernelspec": {
   "display_name": "Python [default]",
   "language": "python",
   "name": "python3"
  },
  "language_info": {
   "codemirror_mode": {
    "name": "ipython",
    "version": 3
   },
   "file_extension": ".py",
   "mimetype": "text/x-python",
   "name": "python",
   "nbconvert_exporter": "python",
   "pygments_lexer": "ipython3",
   "version": "3.6.1"
  },
  "toc": {
   "colors": {
    "hover_highlight": "#DAA520",
    "running_highlight": "#FF0000",
    "selected_highlight": "#FFD700"
   },
   "moveMenuLeft": true,
   "nav_menu": {
    "height": "13px",
    "width": "253px"
   },
   "navigate_menu": true,
   "number_sections": true,
   "sideBar": true,
   "threshold": "3",
   "toc_cell": false,
   "toc_section_display": "block",
   "toc_window_display": true,
   "widenNotebook": false
  }
 },
 "nbformat": 4,
 "nbformat_minor": 1
}
